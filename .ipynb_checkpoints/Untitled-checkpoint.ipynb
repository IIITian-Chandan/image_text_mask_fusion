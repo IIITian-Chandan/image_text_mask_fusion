{
 "cells": [
  {
   "cell_type": "code",
   "execution_count": null,
   "metadata": {},
   "outputs": [],
   "source": [
    "import pandas as pd\n",
    "import numpy as np\n",
    "import matplotlib.pyplot as plt\n",
    "import seaborn as sns\n",
    "from sklearn.model_selection import train_test_split\n",
    "from sklearn.preprocessing import LabelEncoder\n",
    "from keras.models import Model\n",
    "from keras.layers import LSTM, Activation, Dense, Dropout, Input, Embedding\n",
    "from keras.optimizers import RMSprop\n",
    "from keras.preprocessing.text import Tokenizer\n",
    "from keras.preprocessing import sequence\n",
    "from keras.utils import to_categorical\n",
    "from keras.callbacks import EarlyStopping\n",
    "import keras"
   ]
  },
  {
   "cell_type": "code",
   "execution_count": null,
   "metadata": {},
   "outputs": [],
   "source": [
    "# import nltk\n",
    "# nltk.download('stopwords')"
   ]
  },
  {
   "cell_type": "code",
   "execution_count": null,
   "metadata": {},
   "outputs": [],
   "source": [
    "data = pd.read_csv('dataset/torch_fashion_gen_train.csv')"
   ]
  },
  {
   "cell_type": "code",
   "execution_count": 4,
   "metadata": {},
   "outputs": [
    {
     "data": {
      "text/html": [
       "<div>\n",
       "<style scoped>\n",
       "    .dataframe tbody tr th:only-of-type {\n",
       "        vertical-align: middle;\n",
       "    }\n",
       "\n",
       "    .dataframe tbody tr th {\n",
       "        vertical-align: top;\n",
       "    }\n",
       "\n",
       "    .dataframe thead th {\n",
       "        text-align: right;\n",
       "    }\n",
       "</style>\n",
       "<table border=\"1\" class=\"dataframe\">\n",
       "  <thead>\n",
       "    <tr style=\"text-align: right;\">\n",
       "      <th></th>\n",
       "      <th>description_text</th>\n",
       "      <th>sku</th>\n",
       "      <th>img_id</th>\n",
       "      <th>category</th>\n",
       "      <th>img</th>\n",
       "    </tr>\n",
       "  </thead>\n",
       "  <tbody>\n",
       "    <tr>\n",
       "      <th>0</th>\n",
       "      <td>Long sleeve shirt in pale grey. Spread collar....</td>\n",
       "      <td>91487</td>\n",
       "      <td>3010</td>\n",
       "      <td>SHIRTS</td>\n",
       "      <td>/home/ubuntu/filestore/fashion_gen/data/3010.jpg</td>\n",
       "    </tr>\n",
       "    <tr>\n",
       "      <th>1</th>\n",
       "      <td>Short sleeve relaxed-fit shirt in off-white. L...</td>\n",
       "      <td>95439</td>\n",
       "      <td>7005</td>\n",
       "      <td>SHIRTS</td>\n",
       "      <td>/home/ubuntu/filestore/fashion_gen/data/7005.jpg</td>\n",
       "    </tr>\n",
       "    <tr>\n",
       "      <th>2</th>\n",
       "      <td>Long sleeve slim fit blazer in plum. Single no...</td>\n",
       "      <td>93680</td>\n",
       "      <td>5197</td>\n",
       "      <td>JACKETS &amp; COATS</td>\n",
       "      <td>/home/ubuntu/filestore/fashion_gen/data/5197.jpg</td>\n",
       "    </tr>\n",
       "    <tr>\n",
       "      <th>3</th>\n",
       "      <td>Long sleeve shirt in black. Spread collar. Con...</td>\n",
       "      <td>86787</td>\n",
       "      <td>112</td>\n",
       "      <td>SHIRTS</td>\n",
       "      <td>/home/ubuntu/filestore/fashion_gen/data/112.jpg</td>\n",
       "    </tr>\n",
       "    <tr>\n",
       "      <th>4</th>\n",
       "      <td>Short sleeve t-shirt in heather grey. Scoopnec...</td>\n",
       "      <td>92959</td>\n",
       "      <td>4411</td>\n",
       "      <td>TOPS</td>\n",
       "      <td>/home/ubuntu/filestore/fashion_gen/data/4411.jpg</td>\n",
       "    </tr>\n",
       "  </tbody>\n",
       "</table>\n",
       "</div>"
      ],
      "text/plain": [
       "                                    description_text    sku  img_id  \\\n",
       "0  Long sleeve shirt in pale grey. Spread collar....  91487    3010   \n",
       "1  Short sleeve relaxed-fit shirt in off-white. L...  95439    7005   \n",
       "2  Long sleeve slim fit blazer in plum. Single no...  93680    5197   \n",
       "3  Long sleeve shirt in black. Spread collar. Con...  86787     112   \n",
       "4  Short sleeve t-shirt in heather grey. Scoopnec...  92959    4411   \n",
       "\n",
       "          category                                               img  \n",
       "0           SHIRTS  /home/ubuntu/filestore/fashion_gen/data/3010.jpg  \n",
       "1           SHIRTS  /home/ubuntu/filestore/fashion_gen/data/7005.jpg  \n",
       "2  JACKETS & COATS  /home/ubuntu/filestore/fashion_gen/data/5197.jpg  \n",
       "3           SHIRTS   /home/ubuntu/filestore/fashion_gen/data/112.jpg  \n",
       "4             TOPS  /home/ubuntu/filestore/fashion_gen/data/4411.jpg  "
      ]
     },
     "execution_count": 4,
     "metadata": {},
     "output_type": "execute_result"
    }
   ],
   "source": [
    "data.head()"
   ]
  },
  {
   "cell_type": "code",
   "execution_count": 5,
   "metadata": {},
   "outputs": [
    {
     "data": {
      "text/plain": [
       "5000"
      ]
     },
     "execution_count": 5,
     "metadata": {},
     "output_type": "execute_result"
    }
   ],
   "source": [
    "len(data)"
   ]
  },
  {
   "cell_type": "code",
   "execution_count": null,
   "metadata": {},
   "outputs": [],
   "source": []
  },
  {
   "cell_type": "code",
   "execution_count": null,
   "metadata": {},
   "outputs": [],
   "source": []
  },
  {
   "cell_type": "code",
   "execution_count": 6,
   "metadata": {},
   "outputs": [],
   "source": [
    "max_words = 1000\n",
    "max_len = 150\n",
    "tok = Tokenizer(num_words=max_words)\n",
    "tok.fit_on_texts(data['description_text'])\n",
    "sequences = tok.texts_to_sequences(data['description_text'])\n",
    "sequences_matrix = sequence.pad_sequences(sequences,maxlen=max_len)"
   ]
  },
  {
   "cell_type": "code",
   "execution_count": 22,
   "metadata": {},
   "outputs": [
    {
     "data": {
      "text/plain": [
       "dict_keys(['num_words', 'filters', 'lower', 'split', 'char_level', 'oov_token', 'document_count', 'word_counts', 'word_docs', 'index_docs', 'index_word', 'word_index'])"
      ]
     },
     "execution_count": 22,
     "metadata": {},
     "output_type": "execute_result"
    }
   ],
   "source": [
    "tok.get_config().keys()"
   ]
  },
  {
   "cell_type": "code",
   "execution_count": 31,
   "metadata": {},
   "outputs": [
    {
     "data": {
      "text/plain": [
       "'{\"1\": \"at\", \"2\": \"in\", \"3\": \"tonal\", \"4\": \"stitching\", \"5\": \"sleeve\", \"6\": \"and\", \"7\": \"black\", \"8\": \"front\", \"9\": \"collar\", \"10\": \"button\", \"11\": \"pocket\", \"12\": \"closure\", \"13\": \"cuffs\", \"14\": \"pockets\", \"15\": \"long\", \"16\": \"zip\", \"17\": \"with\", \"18\": \"white\", \"19\": \"throughout\", \"20\": \"hem\", \"21\": \"fit\", \"22\": \"shirt\", \"23\": \"styling\", \"24\": \"back\", \"25\": \"fly\", \"26\": \"welt\", \"27\": \"ribbed\", \"28\": \"crewneck\", \"29\": \"four\", \"30\": \"lined\", \"31\": \"waistband\", \"32\": \"grey\", \"33\": \"breast\", \"34\": \"short\", \"35\": \"interior\", \"36\": \"spread\", \"37\": \"blue\", \"38\": \"trim\", \"39\": \"navy\", \"40\": \"single\", \"41\": \"fully\", \"42\": \"slim\", \"43\": \"t\", \"44\": \"print\", \"45\": \"trousers\", \"46\": \"patch\", \"47\": \"side\", \"48\": \"leather\", \"49\": \"knit\", \"50\": \"flap\", \"51\": \"zippered\", \"52\": \"logo\", \"53\": \"jacket\", \"54\": \"of\", \"55\": \"drawstring\", \"56\": \"shorts\", \"57\": \"wool\", \"58\": \"barrel\", \"59\": \"panel\", \"60\": \"two\", \"61\": \"pleated\", \"62\": \"contrasting\", \"63\": \"relaxed\", \"64\": \"sleeves\", \"65\": \"lapel\", \"66\": \"five\", \"67\": \"down\", \"68\": \"notched\", \"69\": \"signature\", \"70\": \"cotton\", \"71\": \"three\", \"72\": \"snap\", \"73\": \"ankle\", \"74\": \"elasticised\", \"75\": \"placket\", \"76\": \"blazer\", \"77\": \"yoke\", \"78\": \"green\", \"79\": \"br\", \"80\": \"tones\", \"81\": \"waist\", \"82\": \"concealed\", \"83\": \"sweater\", \"84\": \"jeans\", \"85\": \"pattern\", \"86\": \"tone\", \"87\": \"stud\", \"88\": \"panels\", \"89\": \"sides\", \"90\": \"detail\", \"91\": \"top\", \"92\": \"shoulders\", \"93\": \"mesh\", \"94\": \"leg\", \"95\": \"light\", \"96\": \"elasticized\", \"97\": \"cropped\", \"98\": \"buttoned\", \"99\": \"red\", \"100\": \"seams\", \"101\": \"vented\", \"102\": \"angled\", \"103\": \"lining\", \"104\": \"graphic\", \"105\": \"buttons\", \"106\": \"lambskin\", \"107\": \"partially\", \"108\": \"blend\", \"109\": \"seam\", \"110\": \"raw\", \"111\": \"silk\", \"112\": \"closures\", \"113\": \"paneling\", \"114\": \"denim\", \"115\": \"pants\", \"116\": \"press\", \"117\": \"neck\", \"118\": \"hood\", \"119\": \"semi\", \"120\": \"skinny\", \"121\": \"belt\", \"122\": \"cinch\", \"123\": \"sheer\", \"124\": \"way\", \"125\": \"heather\", \"126\": \"adjustable\", \"127\": \"texture\", \"128\": \"curved\", \"129\": \"printed\", \"130\": \"classic\", \"131\": \"tank\", \"132\": \"seat\", \"133\": \"effect\", \"134\": \"satin\", \"135\": \"contrast\", \"136\": \"beige\", \"137\": \"stand\", \"138\": \"lounge\", \"139\": \"bomber\", \"140\": \"stripe\", \"141\": \"stripes\", \"142\": \"padded\", \"143\": \"sweatshirt\", \"144\": \"grained\", \"145\": \"double\", \"146\": \"stretch\", \"147\": \"band\", \"148\": \"ivory\", \"149\": \"jersey\", \"150\": \"embroidered\", \"151\": \"shirttail\", \"152\": \"silver\", \"153\": \"quilted\", \"154\": \"hooded\", \"155\": \"sarouel\", \"156\": \"off\", \"157\": \"upper\", \"158\": \"expansion\", \"159\": \"tapered\", \"160\": \"deep\", \"161\": \"accent\", \"162\": \"biker\", \"163\": \"pin\", \"164\": \"indigo\", \"165\": \"decorative\", \"166\": \"layered\", \"167\": \"hems\", \"168\": \"lightweight\", \"169\": \"raglan\", \"170\": \"surgeon\\'s\", \"171\": \"tab\", \"172\": \"floral\", \"173\": \"brown\", \"174\": \"yellow\", \"175\": \"color\", \"176\": \"eacute\", \"177\": \"cuff\", \"178\": \"pink\", \"179\": \"edges\", \"180\": \"gold\", \"181\": \"textured\", \"182\": \"tuxedo\", \"183\": \"mock\", \"184\": \"striped\", \"185\": \"check\", \"186\": \"v\", \"187\": \"loop\", \"188\": \"left\", \"189\": \"unfinished\", \"190\": \"tail\", \"191\": \"plaque\", \"192\": \"center\", \"193\": \"sleeveless\", \"194\": \"panelling\", \"195\": \"ribbon\", \"196\": \"scoopneck\", \"197\": \"fixtures\", \"198\": \"belts\", \"199\": \"distressing\", \"200\": \"orange\", \"201\": \"gussets\", \"202\": \"fabric\", \"203\": \"loops\", \"204\": \"neoprene\", \"205\": \"straight\", \"206\": \"shoulder\", \"207\": \"bonded\", \"208\": \"harem\", \"209\": \"overlong\", \"210\": \"grosgrain\", \"211\": \"cut\", \"212\": \"plaid\", \"213\": \"lace\", \"214\": \"tri\", \"215\": \"vents\", \"216\": \"wide\", \"217\": \"khaki\", \"218\": \"dot\", \"219\": \"rolled\", \"220\": \"pearl\", \"221\": \"purple\", \"222\": \"set\", \"223\": \"camo\", \"224\": \"to\", \"225\": \"stitched\", \"226\": \"skirt\", \"227\": \"body\", \"228\": \"tan\", \"229\": \"colorblocked\", \"230\": \"up\", \"231\": \"buckle\", \"232\": \"boxy\", \"233\": \"layer\", \"234\": \"inset\", \"235\": \"woven\", \"236\": \"pale\", \"237\": \"mother\", \"238\": \"weave\", \"239\": \"cardigan\", \"240\": \"label\", \"241\": \"trimmed\", \"242\": \"piqu\", \"243\": \"vest\", \"244\": \"drop\", \"245\": \"buffed\", \"246\": \"poplin\", \"247\": \"charcoal\", \"248\": \"linen\", \"249\": \"dark\", \"250\": \"jacquard\", \"251\": \"on\", \"252\": \"pull\", \"253\": \"breasted\", \"254\": \"epaulet\", \"255\": \"hoodie\", \"256\": \"tailored\", \"257\": \"patches\", \"258\": \"paneled\", \"259\": \"one\", \"260\": \"vent\", \"261\": \"textile\", \"262\": \"elastic\", \"263\": \"blouse\", \"264\": \"removable\", \"265\": \"suede\", \"266\": \"high\", \"267\": \"zipper\", \"268\": \"contoured\", \"269\": \"canvas\", \"270\": \"oversize\", \"271\": \"polo\", \"272\": \"holes\", \"273\": \"slide\", \"274\": \"lower\", \"275\": \"rivets\", \"276\": \"slub\", \"277\": \"full\", \"278\": \"accents\", \"279\": \"partial\", \"280\": \"rib\", \"281\": \"darts\", \"282\": \"armscyes\", \"283\": \"passport\", \"284\": \"finish\", \"285\": \"shawl\", \"286\": \"extra\", \"287\": \"alternating\", \"288\": \"doubled\", \"289\": \"motif\", \"290\": \"buttonhole\", \"291\": \"serged\", \"292\": \"y\", \"293\": \"details\", \"294\": \"kissing\", \"295\": \"tricolor\", \"296\": \"metallic\", \"297\": \"scoop\", \"298\": \"washed\", \"299\": \"feature\", \"300\": \"mohair\", \"301\": \"exposed\", \"302\": \"from\", \"303\": \"fading\", \"304\": \"skull\", \"305\": \"elbow\", \"306\": \"slit\", \"307\": \"star\", \"308\": \"digital\", \"309\": \"flat\", \"310\": \"open\", \"311\": \"cargo\", \"312\": \"pleats\", \"313\": \"slate\", \"314\": \"metal\", \"315\": \"stitch\", \"316\": \"knee\", \"317\": \"cashmere\", \"318\": \"polka\", \"319\": \"cream\", \"320\": \"heathered\", \"321\": \"slits\", \"322\": \"backing\", \"323\": \"shirts\", \"324\": \"olive\", \"325\": \"revealing\", \"326\": \"ramie\", \"327\": \"crepe\", \"328\": \"subtle\", \"329\": \"coat\", \"330\": \"anchor\", \"331\": \"studs\", \"332\": \"nylon\", \"333\": \"twill\", \"334\": \"outer\", \"335\": \"glossy\", \"336\": \"asymmetrical\", \"337\": \"fine\", \"338\": \"embossed\", \"339\": \"fleece\", \"340\": \"draping\", \"341\": \"emblem\", \"342\": \"micro\", \"343\": \"exterior\", \"344\": \"enclosure\", \"345\": \"all\", \"346\": \"chest\", \"347\": \"marled\", \"348\": \"droptail\", \"349\": \"length\", \"350\": \"the\", \"351\": \"jean\", \"352\": \"silkscreen\", \"353\": \"floating\", \"354\": \"covered\", \"355\": \"fastening\", \"356\": \"hardware\", \"357\": \"multicolored\", \"358\": \"under\", \"359\": \"screen\", \"360\": \"collage\", \"361\": \"six\", \"362\": \"reinforced\", \"363\": \"edge\", \"364\": \"structured\", \"365\": \"line\", \"366\": \"crotch\", \"367\": \"raised\", \"368\": \"irregular\", \"369\": \"mottled\", \"370\": \"oxford\", \"371\": \"legs\", \"372\": \"supple\", \"373\": \"x\", \"374\": \"hybrid\", \"375\": \"ribbing\", \"376\": \"thick\", \"377\": \"armscye\", \"378\": \"perforations\", \"379\": \"piping\", \"380\": \"eyelet\", \"381\": \"a\", \"382\": \"slashed\", \"383\": \"pen\", \"384\": \"extended\", \"385\": \"part\", \"386\": \"collaboration\", \"387\": \"tennis\", \"388\": \"quarter\", \"389\": \"goatskin\", \"390\": \"narrow\", \"391\": \"brass\", \"392\": \"wave\", \"393\": \"panelled\", \"394\": \"hole\", \"395\": \"reversible\", \"396\": \"chambray\", \"397\": \"faux\", \"398\": \"between\", \"399\": \"bungee\", \"400\": \"peaked\", \"401\": \"gingham\", \"402\": \"square\", \"403\": \"fleecy\", \"404\": \"blocked\", \"405\": \"turtleneck\", \"406\": \"appliqu\", \"407\": \"style\", \"408\": \"arm\", \"409\": \"tabs\", \"410\": \"flag\", \"411\": \"embroidery\", \"412\": \"inspired\", \"413\": \"bodysuit\", \"414\": \"ecru\", \"415\": \"gathering\", \"416\": \"around\", \"417\": \"terry\", \"418\": \"crocodile\", \"419\": \"skin\", \"420\": \"tweed\", \"421\": \"gunmetal\", \"422\": \"unlined\", \"423\": \"lacing\", \"424\": \"strap\", \"425\": \"right\", \"426\": \"opening\", \"427\": \"mauve\", \"428\": \"detailing\", \"429\": \"perforated\", \"430\": \"tuck\", \"431\": \"waisted\", \"432\": \"legged\", \"433\": \"straps\", \"434\": \"hang\", \"435\": \"gloss\", \"436\": \"pleat\", \"437\": \"racerback\", \"438\": \"teal\", \"439\": \"low\", \"440\": \"cobalt\", \"441\": \"seven\", \"442\": \"bermuda\", \"443\": \"neckline\", \"444\": \"drawstrings\", \"445\": \"frayed\", \"446\": \"face\", \"447\": \"quot\", \"448\": \"dolman\", \"449\": \"thread\", \"450\": \"multicolor\", \"451\": \"eight\", \"452\": \"epaulette\", \"453\": \"throat\", \"454\": \"felt\", \"455\": \"sheen\", \"456\": \"houndstooth\", \"457\": \"leggings\", \"458\": \"stoppers\", \"459\": \"french\", \"460\": \"overlay\", \"461\": \"ticket\", \"462\": \"base\", \"463\": \"prints\", \"464\": \"pinstripe\", \"465\": \"baseball\", \"466\": \"house\", \"467\": \"abstract\", \"468\": \"python\", \"469\": \"contour\", \"470\": \"ochre\", \"471\": \"lamb\", \"472\": \"forest\", \"473\": \"paint\", \"474\": \"chain\", \"475\": \"detailed\", \"476\": \"notch\", \"477\": \"cap\", \"478\": \"holder\", \"479\": \"chartreuse\", \"480\": \"out\", \"481\": \"smooth\", \"482\": \"burgundy\", \"483\": \"s\", \"484\": \"shaped\", \"485\": \"extending\", \"486\": \"pullover\", \"487\": \"as\", \"488\": \"patterns\", \"489\": \"leopard\", \"490\": \"convertible\", \"491\": \"stamped\", \"492\": \"taupe\", \"493\": \"guard\", \"494\": \"hidden\", \"495\": \"appliqu\\\\u00e9\", \"496\": \"turquoise\", \"497\": \"concealing\", \"498\": \"available\", \"499\": \"exclusively\", \"500\": \"ssense\", \"501\": \"hemline\", \"502\": \"photo\", \"503\": \"oversized\", \"504\": \"matte\", \"505\": \"safety\", \"506\": \"velvet\", \"507\": \"flannel\", \"508\": \"edged\", \"509\": \"central\", \"510\": \"rubberized\", \"511\": \"ankles\", \"512\": \"gray\", \"513\": \"windowpane\", \"514\": \"twisted\", \"515\": \"tunic\", \"516\": \"vermilion\", \"517\": \"wash\", \"518\": \"over\", \"519\": \"additional\", \"520\": \"primary\", \"521\": \"mini\", \"522\": \"tiger\", \"523\": \"hideaway\", \"524\": \"crossover\", \"525\": \"soft\", \"526\": \"funnel\", \"527\": \"text\", \"528\": \"viscose\", \"529\": \"backed\", \"530\": \"peak\", \"531\": \"loose\", \"532\": \"insert\", \"533\": \"rubber\", \"534\": \"maroon\", \"535\": \"initials\", \"536\": \"epaulets\", \"537\": \"modified\", \"538\": \"head\", \"539\": \"coral\", \"540\": \"unstructured\", \"541\": \"mint\", \"542\": \"1\", \"543\": \"reverse\", \"544\": \"vinyl\", \"545\": \"waffle\", \"546\": \"slash\", \"547\": \"camouflage\", \"548\": \"inner\", \"549\": \"wood\", \"550\": \"by\", \"551\": \"distressed\", \"552\": \"knees\", \"553\": \"patchwork\", \"554\": \"hook\", \"555\": \"tie\", \"556\": \"outs\", \"557\": \"solid\", \"558\": \"piece\", \"559\": \"elongated\", \"560\": \"mid\", \"561\": \"multi\", \"562\": \"dropped\", \"563\": \"slanted\", \"564\": \"gradient\", \"565\": \"geometric\", \"566\": \"graph\", \"567\": \"faded\", \"568\": \"vivid\", \"569\": \"underside\", \"570\": \"ice\", \"571\": \"oleg\", \"572\": \"dou\", \"573\": \"reversed\", \"574\": \"padding\", \"575\": \"polished\", \"576\": \"elbows\", \"577\": \"fixture\", \"578\": \"royal\", \"579\": \"eye\", \"580\": \"nape\", \"581\": \"flared\", \"582\": \"lightly\", \"583\": \"kangaroo\", \"584\": \"shell\", \"585\": \"boatneck\", \"586\": \"brim\", \"587\": \"fuchsia\", \"588\": \"corduroy\", \"589\": \"calfskin\", \"590\": \"hunter\", \"591\": \"vertical\", \"592\": \"ultra\", \"593\": \"spot\", \"594\": \"summer\", \"595\": \"crown\", \"596\": \"pyramid\", \"597\": \"flower\", \"598\": \"overlapping\", \"599\": \"nubuck\", \"600\": \"running\", \"601\": \"sky\", \"602\": \"windbreaker\", \"603\": \"zebra\", \"604\": \"cracked\", \"605\": \"patterned\", \"606\": \"godet\", \"607\": \"coin\", \"608\": \"seersucker\", \"609\": \"pleating\", \"610\": \"bias\", \"611\": \"flaps\", \"612\": \"arms\", \"613\": \"pouch\", \"614\": \"crosshatch\", \"615\": \"suit\", \"616\": \"trench\", \"617\": \"gusset\", \"618\": \"cowl\", \"619\": \"stiff\", \"620\": \"round\", \"621\": \"basketwoven\", \"622\": \"diagonal\", \"623\": \"diamond\", \"624\": \"\\'slim\\'\", \"625\": \"lion\", \"626\": \"blurred\", \"627\": \"wrinkled\", \"628\": \"painted\", \"629\": \"point\", \"630\": \"flattened\", \"631\": \"like\", \"632\": \"legging\", \"633\": \"wraparound\", \"634\": \"velcro\", \"635\": \"shoes\", \"636\": \"toe\", \"637\": \"tongue\", \"638\": \"heel\", \"639\": \"sole\", \"640\": \"dyed\", \"641\": \"snake\", \"642\": \"plum\", \"643\": \"bib\", \"644\": \"bustier\", \"645\": \"organza\", \"646\": \"j\", \"647\": \"fedora\", \"648\": \"indents\", \"649\": \"forearms\", \"650\": \"3\", \"651\": \"dress\", \"652\": \"engraved\", \"653\": \"botanical\", \"654\": \"leaf\", \"655\": \"middle\", \"656\": \"8\", \"657\": \"herringbone\", \"658\": \"waxed\", \"659\": \"pixelated\", \"660\": \"decal\", \"661\": \"multiple\", \"662\": \"coated\", \"663\": \"fold\", \"664\": \"underarm\", \"665\": \"inserted\", \"666\": \"fitted\", \"667\": \"bow\", \"668\": \"slight\", \"669\": \"cash\\'\", \"670\": \"motifs\", \"671\": \"cable\", \"672\": \"secondary\", \"673\": \"trimmings\", \"674\": \"goat\", \"675\": \"bloomer\", \"676\": \"hand\", \"677\": \"key\", \"678\": \"rose\", \"679\": \"horizontal\", \"680\": \"grid\", \"681\": \"alternate\", \"682\": \"ombr\\\\u00e9\", \"683\": \"circular\", \"684\": \"hips\", \"685\": \"zippers\", \"686\": \"juun\", \"687\": \"folded\", \"688\": \"forearm\", \"689\": \"semisheer\", \"690\": \"welted\", \"691\": \"bright\", \"692\": \"peplum\", \"693\": \"powder\", \"694\": \"effects\", \"695\": \"tucks\", \"696\": \"midnight\", \"697\": \"flocked\", \"698\": \"undulating\", \"699\": \"zipped\", \"700\": \"golden\", \"701\": \"trimming\", \"702\": \"rottweiler\", \"703\": \"braided\", \"704\": \"iridescent\", \"705\": \"opaque\", \"706\": \"henley\", \"707\": \"bubble\", \"708\": \"slubbing\", \"709\": \"brush\", \"710\": \"embellishments\", \"711\": \"inlay\", \"712\": \"quilting\", \"713\": \"lightning\", \"714\": \"cuffed\", \"715\": \"new\", \"716\": \"faceted\", \"717\": \"inserts\", \"718\": \"crop\", \"719\": \"seil\", \"720\": \"marschall\", \"721\": \"muted\", \"722\": \"above\", \"723\": \"features\", \"724\": \"collared\", \"725\": \"ten\", \"726\": \"bust\", \"727\": \"volumized\", \"728\": \"rivet\", \"729\": \"chevron\", \"730\": \"graphics\", \"731\": \"athletic\", \"732\": \"patterning\", \"733\": \"slots\", \"734\": \"velcroed\", \"735\": \"plackets\", \"736\": \"petal\", \"737\": \"stamp\", \"738\": \"\\'cash\\'\", \"739\": \"pencil\", \"740\": \"triangle\", \"741\": \"nude\", \"742\": \"ring\", \"743\": \"tips\", \"744\": \"reinforcing\", \"745\": \"underarms\", \"746\": \"bag\", \"747\": \"puffed\", \"748\": \"large\", \"749\": \"letter\", \"750\": \"tropical\", \"751\": \"rococo\", \"752\": \"is\", \"753\": \"bound\", \"754\": \"pewter\", \"755\": \"curled\", \"756\": \"water\", \"757\": \"invisible\", \"758\": \"atari\", \"759\": \"half\", \"760\": \"basketball\", \"761\": \"lapels\", \"762\": \"heavy\", \"763\": \"featuring\", \"764\": \"divers\", \"765\": \"structural\", \"766\": \"cloth\", \"767\": \"asymmetric\", \"768\": \"gauze\", \"769\": \"gabardine\", \"770\": \"stroke\", \"771\": \"translucent\", \"772\": \"surgeon\", \"773\": \"039\", \"774\": \"rope\", \"775\": \"threading\", \"776\": \"electric\", \"777\": \"chintz\", \"778\": \"snakeskin\", \"779\": \"overdye\", \"780\": \"bolt\", \"781\": \"broderie\", \"782\": \"anglaise\", \"783\": \"feather\", \"784\": \"periwinkle\", \"785\": \"fish\", \"786\": \"creating\", \"787\": \"trompe\", \"788\": \"l\\'oeil\", \"789\": \"bead\", \"790\": \"mixed\", \"791\": \"detachable\", \"792\": \"dots\", \"793\": \"palm\", \"794\": \"tree\", \"795\": \"tartan\", \"796\": \"vintage\", \"797\": \"marni\", \"798\": \"katja\", \"799\": \"outseams\", \"800\": \"calf\", \"801\": \"spider\", \"802\": \"trouser\", \"803\": \"storm\", \"804\": \"felted\", \"805\": \"checkered\", \"806\": \"smudge\", \"807\": \"sage\", \"808\": \"mushroom\", \"809\": \"filigree\", \"810\": \"shape\", \"811\": \"inseam\", \"812\": \"shadow\", \"813\": \"code\", \"814\": \"rounded\", \"815\": \"slouchy\", \"816\": \"coarse\", \"817\": \"2\", \"818\": \"crosshatching\", \"819\": \"rain\", \"820\": \"split\", \"821\": \"umber\", \"822\": \"triangular\", \"823\": \"organizer\", \"824\": \"rise\", \"825\": \"virgin\", \"826\": \"rubberised\", \"827\": \"bar\", \"828\": \"watanabe\", \"829\": \"schwalenberg\", \"830\": \"car\", \"831\": \"animal\", \"832\": \"photoprint\", \"833\": \"landmark\", \"834\": \"map\", \"835\": \"candy\", \"836\": \"boutonniere\", \"837\": \"dusty\", \"838\": \"tucked\", \"839\": \"beading\", \"840\": \"embellished\", \"841\": \"harness\", \"842\": \"cord\", \"843\": \"applique\", \"844\": \"sequined\", \"845\": \"gathered\", \"846\": \"marble\", \"847\": \"colorblock\", \"848\": \"fluorescent\", \"849\": \"turmeric\", \"850\": \"etched\", \"851\": \"drab\", \"852\": \"military\", \"853\": \"heart\", \"854\": \"snaps\", \"855\": \"encased\", \"856\": \"medusa\", \"857\": \"thorn\", \"858\": \"portion\", \"859\": \"confetti\", \"860\": \"moss\", \"861\": \"mickey\", \"862\": \"mouse\", \"863\": \"box\", \"864\": \"cufflinks\", \"865\": \"pinstriped\", \"866\": \"u\", \"867\": \"treatment\", \"868\": \"draw\", \"869\": \"string\", \"870\": \"monogram\", \"871\": \"spray\", \"872\": \"frame\", \"873\": \"twist\", \"874\": \"oblique\", \"875\": \"genuine\", \"876\": \"robin\", \"877\": \"egg\", \"878\": \"pulls\", \"879\": \"acid\", \"880\": \"hair\", \"881\": \"perforation\", \"882\": \"moto\", \"883\": \"ombr\", \"884\": \"draped\", \"885\": \"discoloration\", \"886\": \"handle\", \"887\": \"leatherette\", \"888\": \"whiskering\", \"889\": \"textures\", \"890\": \"strip\", \"891\": \"brest\", \"892\": \"cornflower\", \"893\": \"chinos\", \"894\": \"collaged\", \"895\": \"trapeze\", \"896\": \"kelly\", \"897\": \"crumpled\", \"898\": \"aligned\", \"899\": \"foldover\", \"900\": \"6\", \"901\": \"sparkle\", \"902\": \"muslin\", \"903\": \"for\", \"904\": \"texturing\", \"905\": \"de\", \"906\": \"tape\", \"907\": \"modal\", \"908\": \"plastic\", \"909\": \"traveling\", \"910\": \"curb\", \"911\": \"track\", \"912\": \"peacock\", \"913\": \"caps\", \"914\": \"fleecewool\", \"915\": \"pile\", \"916\": \"flecked\", \"917\": \"carry\", \"918\": \"main\", \"919\": \"material\", \"920\": \"magnetic\", \"921\": \"nautical\", \"922\": \"creasing\", \"923\": \"balloon\", \"924\": \"framed\", \"925\": \"piqu\\\\u00e9\", \"926\": \"shades\", \"927\": \"butterscotch\", \"928\": \"d\\\\u00e9grad\\\\u00e9\", \"929\": \"strand\", \"930\": \"toile\", \"931\": \"crystal\", \"932\": \"scalloped\", \"933\": \"pebbled\", \"934\": \"filled\", \"935\": \"brushstroke\", \"936\": \"glen\", \"937\": \"resin\", \"938\": \"banding\", \"939\": \"boxing\", \"940\": \"ribs\", \"941\": \"crew\", \"942\": \"teeth\", \"943\": \"ink\", \"944\": \"cellphone\", \"945\": \"size\", \"946\": \"sapphire\", \"947\": \"jewel\", \"948\": \"blotch\", \"949\": \"dye\", \"950\": \"mariner\\'s\", \"951\": \"wire\", \"952\": \"armsye\", \"953\": \"wrinkle\", \"954\": \"shallow\", \"955\": \"reflective\", \"956\": \"weather\", \"957\": \"junya\", \"958\": \"glass\", \"959\": \"\\'k\\'\", \"960\": \"colored\", \"961\": \"\\'denzel\\'\", \"962\": \"crisscross\", \"963\": \"also\", \"964\": \"opalescent\", \"965\": \"netting\", \"966\": \"race\", \"967\": \"brocade\", \"968\": \"paris\", \"969\": \"looped\", \"970\": \"glaucous\", \"971\": \"seems\", \"972\": \"wing\", \"973\": \"silhouette\", \"974\": \"darker\", \"975\": \"torso\", \"976\": \"approx\", \"977\": \"5\", \"978\": \"nappa\", \"979\": \"asymmetrically\", \"980\": \"stains\", \"981\": \"babycat\", \"982\": \"strips\", \"983\": \"paisley\", \"984\": \"door\", \"985\": \"this\", \"986\": \"product\", \"987\": \"eggplant\", \"988\": \"ladder\", \"989\": \"fence\", \"990\": \"azure\", \"991\": \"sunflower\", \"992\": \"zigzag\", \"993\": \"magnified\", \"994\": \"ruching\", \"995\": \"london\", \"996\": \"sateen\", \"997\": \"symmetrical\", \"998\": \"net\", \"999\": \"ruffle\", \"1000\": \"marbled\", \"1001\": \"d\", \"1002\": \"stay\", \"1003\": \"swallow\", \"1004\": \"scribble\", \"1005\": \"bottom\", \"1006\": \"knotted\", \"1007\": \"fraying\", \"1008\": \"outsiders\", \"1009\": \"digit\", \"1010\": \"sash\", \"1011\": \"grain\", \"1012\": \"weight\", \"1013\": \"magenta\", \"1014\": \"75\", \"1015\": \"images\", \"1016\": \"fisherman\\'s\", \"1017\": \"subtly\", \"1018\": \"speckling\", \"1019\": \"dog\", \"1020\": \"\\'stay\", \"1021\": \"plasticized\", \"1022\": \"functional\", \"1023\": \"puma\", \"1024\": \"ombre\", \"1025\": \"microfiber\", \"1026\": \"aqua\", \"1027\": \"kilt\", \"1028\": \"seem\", \"1029\": \"mirrored\", \"1030\": \"fulled\", \"1031\": \"tona\", \"1032\": \"diffuse\", \"1033\": \"edition\", \"1034\": \"damask\", \"1035\": \"below\", \"1036\": \"beetle\", \"1037\": \"closed\", \"1038\": \"chenille\", \"1039\": \"softened\", \"1040\": \"bottle\", \"1041\": \"racer\", \"1042\": \"crumpling\", \"1043\": \"\\'r\\'\", \"1044\": \"sttiching\", \"1045\": \"giving\", \"1046\": \"sti\", \"1047\": \"colorblocking\", \"1048\": \"look\", \"1049\": \"rad\", \"1050\": \"tech\", \"1051\": \"tatras\", \"1052\": \"knife\", \"1053\": \"small\", \"1054\": \"lime\", \"1055\": \"spiderweb\", \"1056\": \"jack\", \"1057\": \"instarsia\", \"1058\": \"slightly\", \"1059\": \"simplified\", \"1060\": \"apple\", \"1061\": \"enclosures\", \"1062\": \"\\'high\", \"1063\": \"waves\\'\", \"1064\": \"goretex\", \"1065\": \"varied\", \"1066\": \"giza\", \"1067\": \"various\", \"1068\": \"cage\", \"1069\": \"angle\", \"1070\": \"rock\", \"1071\": \"armbands\", \"1072\": \"inside\", \"1073\": \"basket\", \"1074\": \"terrycloth\", \"1075\": \"tails\", \"1076\": \"pointed\", \"1077\": \"thirteen\", \"1078\": \"eleven\", \"1079\": \"camel\", \"1080\": \"laser\", \"1081\": \"degrade\", \"1082\": \"\\'flight\\'\", \"1083\": \"slot\", \"1084\": \"sunburst\", \"1085\": \"conceal\", \"1086\": \"edging\", \"1087\": \"strawberry\", \"1088\": \"buttonholes\", \"1089\": \"7\", \"1090\": \"conical\", \"1091\": \"monkey\", \"1092\": \"font\", \"1093\": \"showing\", \"1094\": \"through\", \"1095\": \"thighs\", \"1096\": \"crumple\", \"1097\": \"kaleidoscope\", \"1098\": \"waffled\", \"1099\": \"pillar\", \"1100\": \"sheep\", \"1101\": \"tile\", \"1102\": \"arrow\", \"1103\": \"tattersall\", \"1104\": \"connecting\", \"1105\": \"octopus\", \"1106\": \"clasp\", \"1107\": \"cobweb\", \"1108\": \"surgeons\", \"1109\": \"fleeced\", \"1110\": \"sequin\", \"1111\": \"figure\", \"1112\": \"number\", \"1113\": \"fringe\", \"1114\": \"sports\", \"1115\": \"stays\", \"1116\": \"intricate\", \"1117\": \"eagle\", \"1118\": \"\\'ace\", \"1119\": \"morse\", \"1120\": \"hemmed\", \"1121\": \"horn\", \"1122\": \"fill\", \"1123\": \"merino\", \"1124\": \"intarsia\", \"1125\": \"hibiscus\", \"1126\": \"versus\", \"1127\": \"anderson\", \"1128\": \"tops\", \"1129\": \"polyurethane\", \"1130\": \"cross\", \"1131\": \"peony\", \"1132\": \"construction\", \"1133\": \"wrap\", \"1134\": \"field\", \"1135\": \"rabbit\", \"1136\": \"blush\", \"1137\": \"amulet\", \"1138\": \"gauzy\", \"1139\": \"zinc\", \"1140\": \"seed\", \"1141\": \"beads\", \"1142\": \"earthy\", \"1143\": \"slubbed\", \"1144\": \"\\'detroit\\'\", \"1145\": \"music\", \"1146\": \"note\", \"1147\": \"circle\", \"1148\": \"bodice\", \"1149\": \"brand\", \"1150\": \"lettering\", \"1151\": \"chine\", \"1152\": \"attached\", \"1153\": \"icy\", \"1154\": \"\\'grey\", \"1155\": \"photographic\", \"1156\": \"glenplaid\", \"1157\": \"pads\", \"1158\": \"embellishment\", \"1159\": \"thin\", \"1160\": \"molecule\", \"1161\": \"medium\", \"1162\": \"sarouels\", \"1163\": \"pvc\", \"1164\": \"compartment\", \"1165\": \"inverted\", \"1166\": \"antiqued\", \"1167\": \"bleached\", \"1168\": \"foldaway\", \"1169\": \"visor\", \"1170\": \"kandora\", \"1171\": \"coattail\", \"1172\": \"clay\", \"1173\": \"pack\", \"1174\": \"splatter\", \"1175\": \"\\'tarmac\", \"1176\": \"patch\\'\", \"1177\": \"oblong\", \"1178\": \"scratched\", \"1179\": \"pindot\", \"1180\": \"poc\", \"1181\": \"burnt\", \"1182\": \"brushed\", \"1183\": \"obi\", \"1184\": \"fasteners\", \"1185\": \"\\'british\", \"1186\": \"collection\\'\", \"1187\": \"attachment\", \"1188\": \"scuffed\", \"1189\": \"chocolate\", \"1190\": \"width\", \"1191\": \"patc\", \"1192\": \"blends\", \"1193\": \"pilled\", \"1194\": \"semigloss\", \"1195\": \"armholes\", \"1196\": \"fur\", \"1197\": \"thigh\", \"1198\": \"appliqu\\\\u00e9s\", \"1199\": \"studded\", \"1200\": \"transparent\", \"1201\": \"tipped\", \"1202\": \"superfluous\", \"1203\": \"crest\", \"1204\": \"gather\", \"1205\": \"aloha\", \"1206\": \"pied\", \"1207\": \"poule\", \"1208\": \"clpsure\", \"1209\": \"kid\", \"1210\": \"ocean\", \"1211\": \"fireworks\", \"1212\": \"opposing\", \"1213\": \"shepherd\\'s\", \"1214\": \"shredded\", \"1215\": \"deconstructed\", \"1216\": \"close\", \"1217\": \"twinned\", \"1218\": \"seascape\", \"1219\": \"varsity\", \"1220\": \"speckle\", \"1221\": \"monogrammed\", \"1222\": \"pearlescent\", \"1223\": \"shade\", \"1224\": \"minimalist\", \"1225\": \"radio\", \"1226\": \"kimono\", \"1227\": \"bell\", \"1228\": \"polyamide\", \"1229\": \"evoking\", \"1230\": \"arona\", \"1231\": \"mottling\", \"1232\": \"trip\", \"1233\": \"3d\", \"1234\": \"stenciled\", \"1235\": \"laced\", \"1236\": \"bandeau\", \"1237\": \"bralette\", \"1238\": \"spaghetti\", \"1239\": \"rows\", \"1240\": \"\\'nawra\\'\", \"1241\": \"acetate\", \"1242\": \"frocking\", \"1243\": \"squares\", \"1244\": \"seafoam\", \"1245\": \"styilng\", \"1246\": \"acrylic\", \"1247\": \"multicolour\", \"1248\": \"link\", \"1249\": \"\\'kensington\\'\", \"1250\": \"optical\", \"1251\": \"cutouts\", \"1252\": \"army\", \"1253\": \"\\'cromwell\\'\", \"1254\": \"steel\", \"1255\": \"fishtail\", \"1256\": \"resistant\", \"1257\": \"hockey\", \"1258\": \"jagged\", \"1259\": \"fingerprint\", \"1260\": \"cnotrasting\", \"1261\": \"spots\", \"1262\": \"grograin\", \"1263\": \"boucl\", \"1264\": \"faced\", \"1265\": \"western\", \"1266\": \"shearling\", \"1267\": \"greek\", \"1268\": \"suvin\", \"1269\": \"\\'tafari\\'\", \"1270\": \"sequins\", \"1271\": \"iron\", \"1272\": \"widths\", \"1273\": \"sweat\", \"1274\": \"bandana\", \"1275\": \"ones\", \"1276\": \"byet\", \"1277\": \"membrane\", \"1278\": \"lanyard\", \"1279\": \"stiching\", \"1280\": \"chino\", \"1281\": \"popcorn\", \"1282\": \"velutinous\", \"1283\": \"raspberry\", \"1284\": \"myrtle\", \"1285\": \"best\", \"1286\": \"pixel\", \"1287\": \"dusk\", \"1288\": \"thickness\", \"1289\": \"knot\", \"1290\": \"hip\", \"1291\": \"chainlink\", \"1292\": \"tudexo\", \"1293\": \"fleck\", \"1294\": \"velour\", \"1295\": \"emblazoned\", \"1296\": \"barcode\", \"1297\": \"measured\", \"1298\": \"ruler\", \"1299\": \"canary\", \"1300\": \"splits\", \"1301\": \"argyle\", \"1302\": \"patchworked\", \"1303\": \"\\'this\", \"1304\": \"shape\\'\", \"1305\": \"pegged\", \"1306\": \"weaves\", \"1307\": \"raven\", \"1308\": \"\\'love\\'\", \"1309\": \"crocheted\", \"1310\": \"crochet\", \"1311\": \"lion\\'s\", \"1312\": \"snakes\", \"1313\": \"chains\", \"1314\": \"section\", \"1315\": \"bone\", \"1316\": \"sheath\", \"1317\": \"tracksuit\", \"1318\": \"jet\", \"1319\": \"\\'trucker\\'\", \"1320\": \"tencel\", \"1321\": \"oyster\", \"1322\": \"eeves\", \"1323\": \"landscape\", \"1324\": \"stylized\", \"1325\": \"tapestry\", \"1326\": \"sewn\", \"1327\": \"together\", \"1328\": \"weighted\", \"1329\": \"contract\", \"1330\": \"waves\", \"1331\": \"surfboard\", \"1332\": \"automobile\", \"1333\": \"appiqu\", \"1334\": \"zig\", \"1335\": \"zag\", \"1336\": \"armseyes\", \"1337\": \"clear\", \"1338\": \"futuristic\", \"1339\": \"continuous\", \"1340\": \"\\'tae\", \"1341\": \"kwon\", \"1342\": \"do\\'\", \"1343\": \"swim\", \"1344\": \"razor\", \"1345\": \"blade\", \"1346\": \"underlayer\", \"1347\": \"synthetic\", \"1348\": \"pointelle\", \"1349\": \"patchworking\", \"1350\": \"boat\", \"1351\": \"hare\", \"1352\": \"rowing\", \"1353\": \"convex\", \"1354\": \"dovetail\", \"1355\": \"overlap\", \"1356\": \"tapere\", \"1357\": \"goose\", \"1358\": \"coolmax\", \"1359\": \"reg\", \"1360\": \"moisture\", \"1361\": \"management\", \"1362\": \"tiered\", \"1363\": \"fishbone\", \"1364\": \"greay\", \"1365\": \"cewneck\", \"1366\": \"either\", \"1367\": \"stitchign\", \"1368\": \"\\'so\", \"1369\": \"good\", \"1370\": \"so\", \"1371\": \"many\\'\", \"1372\": \"clover\", \"1373\": \"soda\", \"1374\": \"bottles\", \"1375\": \"lobster\", \"1376\": \"enclosed\", \"1377\": \"cloqu\", \"1378\": \"watermelon\", \"1379\": \"con\", \"1380\": \"seamless\", \"1381\": \"no\", \"1382\": \"childlike\", \"1383\": \"wrapped\", \"1384\": \"patched\", \"1385\": \"broken\", \"1386\": \"lines\", \"1387\": \"\\'roadmaster\\'\", \"1388\": \"union\", \"1389\": \"cubist\", \"1390\": \"duvetica\", \"1391\": \"efiliate\", \"1392\": \"peter\", \"1393\": \"pan\", \"1394\": \"juyna\", \"1395\": \"sneaker\", \"1396\": \"\\'miel\\'\", \"1397\": \"block\", \"1398\": \"plain\", \"1399\": \"tiki\", \"1400\": \"mask\", \"1401\": \"astrology\", \"1402\": \"tag\", \"1403\": \"vermillion\", \"1404\": \"fade\", \"1405\": \"frosted\", \"1406\": \"sweatershirt\", \"1407\": \"character\", \"1408\": \"sip\", \"1409\": \"uniform\", \"1410\": \"pilling\", \"1411\": \"flourish\", \"1412\": \"statement\", \"1413\": \"splayed\", \"1414\": \"\\'jesus\", \"1415\": \"back\\'\", \"1416\": \"\\'black\", \"1417\": \"candy\\'\", \"1418\": \"owl\", \"1419\": \"separated\", \"1420\": \"peach\", \"1421\": \"pinch\", \"1422\": \"computer\", \"1423\": \"entire\", \"1424\": \"antlers\", \"1425\": \"spearmint\", \"1426\": \"organic\", \"1427\": \"khakis\", \"1428\": \"emerald\", \"1429\": \"sunset\", \"1430\": \"insulated\", \"1431\": \"rayon\", \"1432\": \"fastenings\", \"1433\": \"upside\", \"1434\": \"moon\", \"1435\": \"rubbed\", \"1436\": \"criss\", \"1437\": \"crossing\", \"1438\": \"big\", \"1439\": \"houdstooth\", \"1440\": \"fields\", \"1441\": \"singlet\", \"1442\": \"jellyfish\", \"1443\": \"whipstitch\", \"1444\": \"serging\", \"1445\": \"creewneck\", \"1446\": \"fair\", \"1447\": \"isle\", \"1448\": \"mohawk\", \"1449\": \"grpahic\", \"1450\": \"glazed\", \"1451\": \"puckered\", \"1452\": \"puller\", \"1453\": \"epaulettes\", \"1454\": \"\\'the\", \"1455\": \"dre\", \"1456\": \"boyfriend\\'\", \"1457\": \"pointillist\", \"1458\": \"design\", \"1459\": \"polkadot\", \"1460\": \"mineral\", \"1461\": \"surface\", \"1462\": \"air\", \"1463\": \"justice\", \"1464\": \"signat\", \"1465\": \"sport\", \"1466\": \"honeycomb\", \"1467\": \"coloblocked\", \"1468\": \"1956\", \"1469\": \"portrait\", \"1470\": \"oliver\", \"1471\": \"bernard\", \"1472\": \"splitting\", \"1473\": \"foulard\", \"1474\": \"bronze\", \"1475\": \"varying\", \"1476\": \"extension\", \"1477\": \"robbed\", \"1478\": \"clothespin\", \"1479\": \"oxblood\", \"1480\": \"darted\", \"1481\": \"dip\", \"1482\": \"w\", \"1483\": \"oranage\", \"1484\": \"neon\", \"1485\": \"\\'delta\\'\", \"1486\": \"kerchief\", \"1487\": \"stonewashed\", \"1488\": \"\\'vintage\\'\", \"1489\": \"treated\", \"1490\": \"moka\", \"1491\": \"\\'wind\\'\", \"1492\": \"cocktail\", \"1493\": \"hooked\", \"1494\": \"crenulated\", \"1495\": \"please\", \"1496\": \"hourani\", \"1497\": \"items\", \"1498\": \"are\", \"1499\": \"unisex\", \"1500\": \"matched\", \"1501\": \"chalk\", \"1502\": \"drawing\", \"1503\": \"cableknit\", \"1504\": \"crested\", \"1505\": \"shoudler\", \"1506\": \"flit\", \"1507\": \"geometrical\", \"1508\": \"backone\", \"1509\": \"ties\", \"1510\": \"darting\", \"1511\": \"facing\", \"1512\": \"eared\", \"1513\": \"child\\'s\", \"1514\": \"writing\", \"1515\": \"\\'angry\", \"1516\": \"bunny\\'\", \"1517\": \"\\'life\", \"1518\": \"jumper\\'\", \"1519\": \"level\", \"1520\": \"melange\", \"1521\": \"\\'senora\\'\", \"1522\": \"onyx\", \"1523\": \"serge\", \"1524\": \"grommet\", \"1525\": \"scratch\", \"1526\": \"stowable\", \"1527\": \"bustle\", \"1528\": \"10\", \"1529\": \"height\", \"1530\": \"stowing\", \"1531\": \"pouching\", \"1532\": \"linings\", \"1533\": \"finishing\", \"1534\": \"digits\", \"1535\": \"lighter\", \"1536\": \"pastel\", \"1537\": \"deerskin\", \"1538\": \"lambaskin\", \"1539\": \"\\'mj\", \"1540\": \"university\\'\", \"1541\": \"velveteen\", \"1542\": \"past\", \"1543\": \"fabrics\", \"1544\": \"tribal\", \"1545\": \"shirtsleeves\", \"1546\": \"lambkin\", \"1547\": \"\\'illusion\\'\", \"1548\": \"cinnamon\", \"1549\": \"rectangular\", \"1550\": \"baby\", \"1551\": \"twins\", \"1552\": \"\\'baby\", \"1553\": \"twins\\'\", \"1554\": \"cat\", \"1555\": \"gosset\", \"1556\": \"fiber\", \"1557\": \"stopper\", \"1558\": \"shading\", \"1559\": \"smokey\", \"1560\": \"stain\", \"1561\": \"cone\", \"1562\": \"\\'v\\'\", \"1563\": \"robert\", \"1564\": \"geller\", \"1565\": \"sleeeve\", \"1566\": \"peaks\", \"1567\": \"pintuck\", \"1568\": \"image\", \"1569\": \"each\", \"1570\": \"skewed\", \"1571\": \"\\'enmore\\'\", \"1572\": \"embdoidered\", \"1573\": \"brow\", \"1574\": \"ruched\", \"1575\": \"plunging\", \"1576\": \"bunge\", \"1577\": \"drawstrnig\", \"1578\": \"interlocked\", \"1579\": \"whole\", \"1580\": \"includes\", \"1581\": \"matching\", \"1582\": \"storage\", \"1583\": \"topped\", \"1584\": \"tripe\", \"1585\": \"\\'actuator\\'\", \"1586\": \"triple\", \"1587\": \"tear\", \"1588\": \"overydye\", \"1589\": \"fitting\", \"1590\": \"unstitched\", \"1591\": \"self\", \"1592\": \"miniskirt\", \"1593\": \"twin\", \"1594\": \"sku\", \"1595\": \"plaques\", \"1596\": \"title\", \"1597\": \"\\'dark\", \"1598\": \"dust\\'\", \"1599\": \"joint\", \"1600\": \"sweetheart\", \"1601\": \"crackled\", \"1602\": \"ringing\", \"1603\": \"numbers\", \"1604\": \"faint\", \"1605\": \"randomized\", \"1606\": \"giraffe\", \"1607\": \"bovine\", \"1608\": \"openings\", \"1609\": \"pressed\", \"1610\": \"baboon\", \"1611\": \"swarvski\", \"1612\": \"stitches\", \"1613\": \"attaching\", \"1614\": \"corset\", \"1615\": \"outline\", \"1616\": \"flame\", \"1617\": \"breathable\", \"1618\": \"bold\", \"1619\": \"\\'image\\'\", \"1620\": \"phrase\", \"1621\": \"\\'today\", \"1622\": \"warm\", \"1623\": \"breeze\", \"1624\": \"comes\\'\", \"1625\": \"relief\", \"1626\": \"push\", \"1627\": \"persian\", \"1628\": \"john\", \"1629\": \"nail\", \"1630\": \"\\'blet\\'\", \"1631\": \"puff\", \"1632\": \"liner\", \"1633\": \"spring\", \"1634\": \"b\", \"1635\": \"intentional\", \"1636\": \"lam\\\\u00e9\", \"1637\": \"shamrocks\", \"1638\": \"\\'roby\\'\", \"1639\": \"croc\", \"1640\": \"cups\", \"1641\": \"bevelled\", \"1642\": \"watercolor\", \"1643\": \"glanplaid\", \"1644\": \"lip\", \"1645\": \"forming\", \"1646\": \"mustard\", \"1647\": \"breton\", \"1648\": \"shir\", \"1649\": \"tin\", \"1650\": \"gunmental\", \"1651\": \"festooned\", \"1652\": \"unturned\", \"1653\": \"nap\", \"1654\": \"row\", \"1655\": \"when\", \"1656\": \"alpaca\", \"1657\": \"boucle\", \"1658\": \"worn\", \"1659\": \"honeycombing\", \"1660\": \"crease\", \"1661\": \"fox\", \"1662\": \"badge\", \"1663\": \"grayscale\", \"1664\": \"angling\", \"1665\": \"levi\\'s\", \"1666\": \"501\", \"1667\": \"destroyed\", \"1668\": \"overdyed\", \"1669\": \"rust\", \"1670\": \"blotched\", \"1671\": \"microribbed\", \"1672\": \"armhole\", \"1673\": \"lingerie\", \"1674\": \"boudoir\", \"1675\": \"rear\", \"1676\": \"pea\", \"1677\": \"buckles\", \"1678\": \"heraldic\", \"1679\": \"cinches\", \"1680\": \"welts\", \"1681\": \"gore\", \"1682\": \"tex\", \"1683\": \"cinched\", \"1684\": \"ultramarine\", \"1685\": \"coating\", \"1686\": \"primaloft\", \"1687\": \"expandable\", \"1688\": \"ways\", \"1689\": \"chunky\", \"1690\": \"grecian\", \"1691\": \"statue\", \"1692\": \"snow\", \"1693\": \"globe\", \"1694\": \"glitter\", \"1695\": \"cube\", \"1696\": \"skeleton\", \"1697\": \"tangerine\", \"1698\": \"sorbet\", \"1699\": \"keyhole\", \"1700\": \"sea\", \"1701\": \"knitted\", \"1702\": \"outlined\", \"1703\": \"iris\", \"1704\": \"matchstick\", \"1705\": \"parallel\", \"1706\": \"roomy\", \"1707\": \"jw\", \"1708\": \"magnetized\", \"1709\": \"anemone\", \"1710\": \"schwallenberg\", \"1711\": \"sleevless\", \"1712\": \"boiled\", \"1713\": \"singe\", \"1714\": \"aubergine\", \"1715\": \"kilter\", \"1716\": \"hot\", \"1717\": \"pad\", \"1718\": \"pill\", \"1719\": \"bowed\", \"1720\": \"melon\", \"1721\": \"hat\", \"1722\": \"tip\", \"1723\": \"sailor\", \"1724\": \"nipped\", \"1725\": \"awning\", \"1726\": \"centre\", \"1727\": \"ultrasound\", \"1728\": \"starburst\", \"1729\": \"polyester\", \"1730\": \"aglet\", \"1731\": \"utility\", \"1732\": \"peacoat\", \"1733\": \"lacquered\", \"1734\": \"camisole\", \"1735\": \"boning\", \"1736\": \"underwire\", \"1737\": \"sherpherd\\'s\", \"1738\": \"post\", \"1739\": \"molded\", \"1740\": \"case\", \"1741\": \"tote\", \"1742\": \"included\"}'"
      ]
     },
     "execution_count": 31,
     "metadata": {},
     "output_type": "execute_result"
    }
   ],
   "source": [
    "tok.get_config()['index_word']"
   ]
  },
  {
   "cell_type": "code",
   "execution_count": 7,
   "metadata": {},
   "outputs": [
    {
     "data": {
      "text/plain": [
       "(5000, 150)"
      ]
     },
     "execution_count": 7,
     "metadata": {},
     "output_type": "execute_result"
    }
   ],
   "source": [
    "sequences_matrix.shape"
   ]
  },
  {
   "cell_type": "code",
   "execution_count": 19,
   "metadata": {},
   "outputs": [
    {
     "data": {
      "text/plain": [
       "array([[  0,   0,   0, ...,  30,   3,   4],\n",
       "       [  0,   0,   0, ..., 191,   1,  35],\n",
       "       [  0,   0,   0, ...,   7,   3,   4],\n",
       "       ...,\n",
       "       [  0,   0,   0, ...,  10,  58,  13],\n",
       "       [  0,   0,   0, ...,   8,   3,   4],\n",
       "       [  0,   0,   0, ...,   4,  10,  25]], dtype=int32)"
      ]
     },
     "execution_count": 19,
     "metadata": {},
     "output_type": "execute_result"
    }
   ],
   "source": [
    "sequences_matrix"
   ]
  },
  {
   "cell_type": "code",
   "execution_count": 8,
   "metadata": {},
   "outputs": [],
   "source": [
    "# model = Sequential()\n",
    "# model.add(Embedding(MAX_NB_WORDS, EMBEDDING_DIM, input_length=X.shape[1]))\n",
    "# model.add(SpatialDropout1D(0.2))\n",
    "# model.add(LSTM(100, dropout=0.2, recurrent_dropout=0.2))\n",
    "# model.add(Dense(13, activation='softmax'))\n",
    "# model.compile(loss='categorical_crossentropy', optimizer='adam', metrics=['accuracy'])\n",
    "# print(model.summary())"
   ]
  },
  {
   "cell_type": "code",
   "execution_count": 15,
   "metadata": {},
   "outputs": [],
   "source": [
    "def basic_model():\n",
    "    text_input = keras.layers.Input(name='text_inputs',shape=[max_len])\n",
    "    layer = Embedding(max_words,50,input_length=max_len)(text_input)\n",
    "    layer = LSTM(64)(layer)\n",
    "    layer = Dense(1024,name='TFC1')(layer)\n",
    "    layer = Activation('relu')(layer)\n",
    "    layer = Dropout(0.5)(layer)\n",
    "    \n",
    "    image_input = keras.layers.Input(name='image_inputs',shape=[4096])\n",
    "    layer1 = Dense(1024,name='IFC1')(image_input)\n",
    "    layer1 = Activation('relu')(layer)\n",
    "    \n",
    "    mul_layer = keras.layers.Multiply()([layer,layer1])\n",
    "    dense_mul_layer = Dense(1024,name='dense_mul_layer')(mul_layer)\n",
    "    dense_mul_layer_relu = Activation('relu')(dense_mul_layer)\n",
    "    dense_mul_layer_dropout = Dropout(0.5)(dense_mul_layer_relu)\n",
    "    \n",
    "    \n",
    "    \n",
    "    out_layer = Dense(1000,name='out_layer')(dense_mul_layer_dropout)\n",
    "    out_layer= Activation('sigmoid')(out_layer)\n",
    "    model = Model(inputs=[text_input, image_input],outputs=out_layer)\n",
    "    return model\n"
   ]
  },
  {
   "cell_type": "code",
   "execution_count": 16,
   "metadata": {},
   "outputs": [
    {
     "name": "stderr",
     "output_type": "stream",
     "text": [
      "W0730 19:28:37.907782 140149926184768 deprecation_wrapper.py:119] From /home/opensource/.local/lib/python3.7/site-packages/keras/optimizers.py:790: The name tf.train.Optimizer is deprecated. Please use tf.compat.v1.train.Optimizer instead.\n",
      "\n",
      "W0730 19:28:37.936941 140149926184768 deprecation_wrapper.py:119] From /home/opensource/.local/lib/python3.7/site-packages/keras/backend/tensorflow_backend.py:3295: The name tf.log is deprecated. Please use tf.math.log instead.\n",
      "\n"
     ]
    }
   ],
   "source": [
    "model = basic_model()\n",
    "# model.build(4096,)\n",
    "# model.summary()\n",
    "model.compile(loss='categorical_crossentropy',optimizer='adam',metrics=['accuracy'])\n"
   ]
  },
  {
   "cell_type": "code",
   "execution_count": 17,
   "metadata": {},
   "outputs": [
    {
     "name": "stdout",
     "output_type": "stream",
     "text": [
      "__________________________________________________________________________________________________\n",
      "Layer (type)                    Output Shape         Param #     Connected to                     \n",
      "==================================================================================================\n",
      "text_inputs (InputLayer)        (None, 150)          0                                            \n",
      "__________________________________________________________________________________________________\n",
      "embedding_2 (Embedding)         (None, 150, 50)      50000       text_inputs[0][0]                \n",
      "__________________________________________________________________________________________________\n",
      "lstm_2 (LSTM)                   (None, 64)           29440       embedding_2[0][0]                \n",
      "__________________________________________________________________________________________________\n",
      "TFC1 (Dense)                    (None, 1024)         66560       lstm_2[0][0]                     \n",
      "__________________________________________________________________________________________________\n",
      "activation_2 (Activation)       (None, 1024)         0           TFC1[0][0]                       \n",
      "__________________________________________________________________________________________________\n",
      "dropout_2 (Dropout)             (None, 1024)         0           activation_2[0][0]               \n",
      "__________________________________________________________________________________________________\n",
      "activation_3 (Activation)       (None, 1024)         0           dropout_2[0][0]                  \n",
      "__________________________________________________________________________________________________\n",
      "multiply_1 (Multiply)           (None, 1024)         0           dropout_2[0][0]                  \n",
      "                                                                 activation_3[0][0]               \n",
      "__________________________________________________________________________________________________\n",
      "dense_mul_layer (Dense)         (None, 1024)         1049600     multiply_1[0][0]                 \n",
      "__________________________________________________________________________________________________\n",
      "activation_4 (Activation)       (None, 1024)         0           dense_mul_layer[0][0]            \n",
      "__________________________________________________________________________________________________\n",
      "dropout_3 (Dropout)             (None, 1024)         0           activation_4[0][0]               \n",
      "__________________________________________________________________________________________________\n",
      "out_layer (Dense)               (None, 1000)         1025000     dropout_3[0][0]                  \n",
      "__________________________________________________________________________________________________\n",
      "activation_5 (Activation)       (None, 1000)         0           out_layer[0][0]                  \n",
      "==================================================================================================\n",
      "Total params: 2,220,600\n",
      "Trainable params: 2,220,600\n",
      "Non-trainable params: 0\n",
      "__________________________________________________________________________________________________\n"
     ]
    }
   ],
   "source": [
    "model.summary()"
   ]
  },
  {
   "cell_type": "code",
   "execution_count": null,
   "metadata": {},
   "outputs": [],
   "source": [
    "\n",
    "# # \n",
    "\n",
    "# for layer in deep_rank_model.layers:\n",
    "#     print (layer.name, layer.output_shape)"
   ]
  },
  {
   "cell_type": "code",
   "execution_count": null,
   "metadata": {},
   "outputs": [],
   "source": []
  },
  {
   "cell_type": "code",
   "execution_count": null,
   "metadata": {},
   "outputs": [],
   "source": []
  },
  {
   "cell_type": "code",
   "execution_count": null,
   "metadata": {},
   "outputs": [],
   "source": []
  },
  {
   "cell_type": "code",
   "execution_count": null,
   "metadata": {},
   "outputs": [],
   "source": []
  },
  {
   "cell_type": "code",
   "execution_count": null,
   "metadata": {},
   "outputs": [],
   "source": []
  },
  {
   "cell_type": "code",
   "execution_count": null,
   "metadata": {},
   "outputs": [],
   "source": []
  },
  {
   "cell_type": "code",
   "execution_count": null,
   "metadata": {},
   "outputs": [],
   "source": []
  },
  {
   "cell_type": "code",
   "execution_count": null,
   "metadata": {},
   "outputs": [],
   "source": []
  },
  {
   "cell_type": "code",
   "execution_count": null,
   "metadata": {},
   "outputs": [],
   "source": []
  },
  {
   "cell_type": "code",
   "execution_count": null,
   "metadata": {},
   "outputs": [],
   "source": []
  },
  {
   "cell_type": "code",
   "execution_count": null,
   "metadata": {},
   "outputs": [],
   "source": []
  },
  {
   "cell_type": "code",
   "execution_count": null,
   "metadata": {},
   "outputs": [],
   "source": []
  },
  {
   "cell_type": "code",
   "execution_count": null,
   "metadata": {},
   "outputs": [],
   "source": []
  },
  {
   "cell_type": "code",
   "execution_count": null,
   "metadata": {},
   "outputs": [],
   "source": []
  },
  {
   "cell_type": "code",
   "execution_count": null,
   "metadata": {},
   "outputs": [],
   "source": []
  },
  {
   "cell_type": "code",
   "execution_count": null,
   "metadata": {},
   "outputs": [],
   "source": []
  },
  {
   "cell_type": "code",
   "execution_count": null,
   "metadata": {},
   "outputs": [],
   "source": []
  },
  {
   "cell_type": "code",
   "execution_count": null,
   "metadata": {},
   "outputs": [],
   "source": []
  },
  {
   "cell_type": "code",
   "execution_count": null,
   "metadata": {},
   "outputs": [],
   "source": []
  }
 ],
 "metadata": {
  "kernelspec": {
   "display_name": "Python 3",
   "language": "python",
   "name": "python3"
  },
  "language_info": {
   "codemirror_mode": {
    "name": "ipython",
    "version": 3
   },
   "file_extension": ".py",
   "mimetype": "text/x-python",
   "name": "python",
   "nbconvert_exporter": "python",
   "pygments_lexer": "ipython3",
   "version": "3.7.3"
  }
 },
 "nbformat": 4,
 "nbformat_minor": 2
}
